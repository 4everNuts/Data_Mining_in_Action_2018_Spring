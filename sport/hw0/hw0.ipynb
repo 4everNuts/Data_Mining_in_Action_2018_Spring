{
 "cells": [
  {
   "cell_type": "markdown",
   "metadata": {},
   "source": [
    "# Imports"
   ]
  },
  {
   "cell_type": "code",
   "execution_count": 148,
   "metadata": {
    "ExecuteTime": {
     "end_time": "2018-02-20T14:30:05.824217Z",
     "start_time": "2018-02-20T14:30:05.819912Z"
    }
   },
   "outputs": [],
   "source": [
    "import pandas as pd\n",
    "import numpy as np\n",
    "import matplotlib.pyplot as plt"
   ]
  },
  {
   "cell_type": "code",
   "execution_count": 256,
   "metadata": {
    "ExecuteTime": {
     "end_time": "2018-02-19T22:03:52.771093Z",
     "start_time": "2018-02-19T22:03:52.768430Z"
    }
   },
   "outputs": [],
   "source": [
    "from sklearn.svm import SVR"
   ]
  },
  {
   "cell_type": "code",
   "execution_count": 10,
   "metadata": {
    "ExecuteTime": {
     "end_time": "2018-02-20T07:47:11.798397Z",
     "start_time": "2018-02-20T07:47:11.513460Z"
    }
   },
   "outputs": [],
   "source": [
    "from sklearn.model_selection import train_test_split\n",
    "from sklearn.preprocessing import LabelEncoder\n",
    "from sklearn.externals import joblib\n",
    "from sklearn.metrics import roc_auc_score"
   ]
  },
  {
   "cell_type": "code",
   "execution_count": 2,
   "metadata": {
    "ExecuteTime": {
     "end_time": "2018-02-14T07:54:39.850073Z",
     "start_time": "2018-02-14T07:54:38.323311Z"
    }
   },
   "outputs": [
    {
     "name": "stderr",
     "output_type": "stream",
     "text": [
      "Using TensorFlow backend.\n"
     ]
    }
   ],
   "source": [
    "import tensorflow as tf\n",
    "import keras\n",
    "from keras.models import Sequential, Model\n",
    "from keras.layers import Dense, Dropout, Activation, Input\n",
    "from keras.preprocessing.text import Tokenizer"
   ]
  },
  {
   "cell_type": "code",
   "execution_count": 10,
   "metadata": {
    "ExecuteTime": {
     "end_time": "2018-02-14T07:56:50.647833Z",
     "start_time": "2018-02-14T07:56:50.645419Z"
    }
   },
   "outputs": [],
   "source": [
    "from keras.models import load_model"
   ]
  },
  {
   "cell_type": "code",
   "execution_count": 11,
   "metadata": {
    "ExecuteTime": {
     "end_time": "2018-02-20T07:47:15.232396Z",
     "start_time": "2018-02-20T07:47:15.219278Z"
    }
   },
   "outputs": [],
   "source": [
    "import xgboost as xgb"
   ]
  },
  {
   "cell_type": "code",
   "execution_count": 4,
   "metadata": {
    "ExecuteTime": {
     "end_time": "2018-02-19T18:06:40.484889Z",
     "start_time": "2018-02-19T18:06:40.376668Z"
    }
   },
   "outputs": [
    {
     "name": "stderr",
     "output_type": "stream",
     "text": [
      "/Users/solo/.pyenv/versions/jupyter3.6.4/lib/python3.6/site-packages/h5py/__init__.py:36: FutureWarning: Conversion of the second argument of issubdtype from `float` to `np.floating` is deprecated. In future, it will be treated as `np.float64 == np.dtype(float).type`.\n",
      "  from ._conv import register_converters as _register_converters\n"
     ]
    }
   ],
   "source": [
    "import h5py"
   ]
  },
  {
   "cell_type": "markdown",
   "metadata": {},
   "source": [
    "# Read"
   ]
  },
  {
   "cell_type": "code",
   "execution_count": 12,
   "metadata": {
    "ExecuteTime": {
     "end_time": "2018-02-20T07:47:17.498455Z",
     "start_time": "2018-02-20T07:47:17.259426Z"
    }
   },
   "outputs": [],
   "source": [
    "train = pd.read_csv('./train.csv')\n",
    "test = pd.read_csv('./test.csv')\n",
    "sample_submission = pd.read_csv('./sample_submission.csv')"
   ]
  },
  {
   "cell_type": "code",
   "execution_count": 13,
   "metadata": {
    "ExecuteTime": {
     "end_time": "2018-02-20T07:47:17.896424Z",
     "start_time": "2018-02-20T07:47:17.888985Z"
    }
   },
   "outputs": [
    {
     "data": {
      "text/html": [
       "<div>\n",
       "<style>\n",
       "    .dataframe thead tr:only-child th {\n",
       "        text-align: right;\n",
       "    }\n",
       "\n",
       "    .dataframe thead th {\n",
       "        text-align: left;\n",
       "    }\n",
       "\n",
       "    .dataframe tbody tr th {\n",
       "        vertical-align: top;\n",
       "    }\n",
       "</style>\n",
       "<table border=\"1\" class=\"dataframe\">\n",
       "  <thead>\n",
       "    <tr style=\"text-align: right;\">\n",
       "      <th></th>\n",
       "      <th>Word</th>\n",
       "      <th>Label</th>\n",
       "    </tr>\n",
       "  </thead>\n",
       "  <tbody>\n",
       "    <tr>\n",
       "      <th>0</th>\n",
       "      <td>Аалтонен</td>\n",
       "      <td>1</td>\n",
       "    </tr>\n",
       "  </tbody>\n",
       "</table>\n",
       "</div>"
      ],
      "text/plain": [
       "       Word  Label\n",
       "0  Аалтонен      1"
      ]
     },
     "execution_count": 13,
     "metadata": {},
     "output_type": "execute_result"
    }
   ],
   "source": [
    "train.head(1)"
   ]
  },
  {
   "cell_type": "code",
   "execution_count": 14,
   "metadata": {
    "ExecuteTime": {
     "end_time": "2018-02-20T07:47:18.549327Z",
     "start_time": "2018-02-20T07:47:18.543028Z"
    }
   },
   "outputs": [
    {
     "data": {
      "text/html": [
       "<div>\n",
       "<style>\n",
       "    .dataframe thead tr:only-child th {\n",
       "        text-align: right;\n",
       "    }\n",
       "\n",
       "    .dataframe thead th {\n",
       "        text-align: left;\n",
       "    }\n",
       "\n",
       "    .dataframe tbody tr th {\n",
       "        vertical-align: top;\n",
       "    }\n",
       "</style>\n",
       "<table border=\"1\" class=\"dataframe\">\n",
       "  <thead>\n",
       "    <tr style=\"text-align: right;\">\n",
       "      <th></th>\n",
       "      <th>Word</th>\n",
       "    </tr>\n",
       "  </thead>\n",
       "  <tbody>\n",
       "    <tr>\n",
       "      <th>0</th>\n",
       "      <td>Аалто</td>\n",
       "    </tr>\n",
       "  </tbody>\n",
       "</table>\n",
       "</div>"
      ],
      "text/plain": [
       "    Word\n",
       "0  Аалто"
      ]
     },
     "execution_count": 14,
     "metadata": {},
     "output_type": "execute_result"
    }
   ],
   "source": [
    "test.head(1)"
   ]
  },
  {
   "cell_type": "code",
   "execution_count": 15,
   "metadata": {
    "ExecuteTime": {
     "end_time": "2018-02-20T07:47:20.792351Z",
     "start_time": "2018-02-20T07:47:20.781307Z"
    },
    "scrolled": true
   },
   "outputs": [
    {
     "name": "stdout",
     "output_type": "stream",
     "text": [
      "1:(10638, 2)\n",
      "0:(90770, 2)\n"
     ]
    }
   ],
   "source": [
    "print('1:{}\\n0:{}'.format(train[train['Label']==1].shape, train[train['Label']==0].shape))"
   ]
  },
  {
   "cell_type": "code",
   "execution_count": 16,
   "metadata": {
    "ExecuteTime": {
     "end_time": "2018-02-20T07:47:21.802048Z",
     "start_time": "2018-02-20T07:47:21.799127Z"
    }
   },
   "outputs": [
    {
     "name": "stdout",
     "output_type": "stream",
     "text": [
      "(101408, 2) (188920, 1)\n"
     ]
    }
   ],
   "source": [
    "print(train.shape, test.shape)"
   ]
  },
  {
   "cell_type": "code",
   "execution_count": 410,
   "metadata": {
    "ExecuteTime": {
     "end_time": "2018-02-20T20:58:13.470282Z",
     "start_time": "2018-02-20T20:58:13.462603Z"
    },
    "scrolled": true
   },
   "outputs": [
    {
     "data": {
      "text/html": [
       "<div>\n",
       "<style>\n",
       "    .dataframe thead tr:only-child th {\n",
       "        text-align: right;\n",
       "    }\n",
       "\n",
       "    .dataframe thead th {\n",
       "        text-align: left;\n",
       "    }\n",
       "\n",
       "    .dataframe tbody tr th {\n",
       "        vertical-align: top;\n",
       "    }\n",
       "</style>\n",
       "<table border=\"1\" class=\"dataframe\">\n",
       "  <thead>\n",
       "    <tr style=\"text-align: right;\">\n",
       "      <th></th>\n",
       "      <th>Word</th>\n",
       "      <th>Label</th>\n",
       "    </tr>\n",
       "  </thead>\n",
       "  <tbody>\n",
       "    <tr>\n",
       "      <th>1320</th>\n",
       "      <td>акт</td>\n",
       "      <td>1</td>\n",
       "    </tr>\n",
       "    <tr>\n",
       "      <th>1363</th>\n",
       "      <td>активисты</td>\n",
       "      <td>1</td>\n",
       "    </tr>\n",
       "    <tr>\n",
       "      <th>1523</th>\n",
       "      <td>алгоритмы</td>\n",
       "      <td>1</td>\n",
       "    </tr>\n",
       "  </tbody>\n",
       "</table>\n",
       "</div>"
      ],
      "text/plain": [
       "           Word  Label\n",
       "1320        акт      1\n",
       "1363  активисты      1\n",
       "1523  алгоритмы      1"
      ]
     },
     "execution_count": 410,
     "metadata": {},
     "output_type": "execute_result"
    }
   ],
   "source": [
    "# не фамилии и таких много =\\\n",
    "train.iloc[[1320, 1363, 1523]]"
   ]
  },
  {
   "cell_type": "code",
   "execution_count": 183,
   "metadata": {
    "ExecuteTime": {
     "end_time": "2018-02-20T16:13:56.361536Z",
     "start_time": "2018-02-20T16:13:56.092510Z"
    },
    "scrolled": false
   },
   "outputs": [
    {
     "data": {
      "text/plain": [
       "<matplotlib.legend.Legend at 0x12db367f0>"
      ]
     },
     "execution_count": 183,
     "metadata": {},
     "output_type": "execute_result"
    },
    {
     "data": {
      "image/png": "[encoded data removed]",
      "text/plain": [
       "<matplotlib.figure.Figure at 0x10e389630>"
      ]
     },
     "metadata": {},
     "output_type": "display_data"
    }
   ],
   "source": [
    "plt.hist(train[train['Label']==0].index, alpha=0.9, label='0')\n",
    "plt.hist(train[train['Label']==1].index, alpha=0.9, label='1')\n",
    "# plt.hist(rows_w_ss, alpha=0.3, label='ss')\n",
    "plt.grid(True)\n",
    "plt.legend(loc='upper right')"
   ]
  },
  {
   "cell_type": "markdown",
   "metadata": {},
   "source": [
    "# TF"
   ]
  },
  {
   "cell_type": "code",
   "execution_count": 6,
   "metadata": {
    "ExecuteTime": {
     "end_time": "2018-02-14T07:54:48.118094Z",
     "start_time": "2018-02-14T07:54:47.502238Z"
    }
   },
   "outputs": [],
   "source": [
    "tokenizer = Tokenizer(num_words=None, lower=True,)\n",
    "tokenizer.fit_on_texts(train['Word'])"
   ]
  },
  {
   "cell_type": "code",
   "execution_count": 7,
   "metadata": {
    "ExecuteTime": {
     "end_time": "2018-02-14T07:54:50.440205Z",
     "start_time": "2018-02-14T07:54:48.422273Z"
    }
   },
   "outputs": [],
   "source": [
    "x_train = tokenizer.texts_to_matrix(train['Word'], mode='binary')\n",
    "x_test = tokenizer.texts_to_matrix(test['Word'], mode='binary')"
   ]
  },
  {
   "cell_type": "code",
   "execution_count": 8,
   "metadata": {
    "ExecuteTime": {
     "end_time": "2018-02-14T07:54:50.444196Z",
     "start_time": "2018-02-14T07:54:50.441655Z"
    }
   },
   "outputs": [],
   "source": [
    "num_classes = 2\n",
    "max_words = x_train.shape[1]\n",
    "batch_size = 128\n",
    "epochs = 1"
   ]
  },
  {
   "cell_type": "code",
   "execution_count": 9,
   "metadata": {
    "ExecuteTime": {
     "end_time": "2018-02-14T07:54:51.078549Z",
     "start_time": "2018-02-14T07:54:51.074773Z"
    }
   },
   "outputs": [
    {
     "data": {
      "text/plain": [
       "(101408, 88335)"
      ]
     },
     "execution_count": 9,
     "metadata": {},
     "output_type": "execute_result"
    }
   ],
   "source": [
    "x_train.shape"
   ]
  },
  {
   "cell_type": "code",
   "execution_count": 10,
   "metadata": {
    "ExecuteTime": {
     "end_time": "2018-02-13T22:44:12.183994Z",
     "start_time": "2018-02-13T22:44:12.179165Z"
    }
   },
   "outputs": [],
   "source": [
    "y_train = keras.utils.to_categorical(train['Label'], num_classes)"
   ]
  },
  {
   "cell_type": "code",
   "execution_count": 11,
   "metadata": {
    "ExecuteTime": {
     "end_time": "2018-02-13T22:44:32.432679Z",
     "start_time": "2018-02-13T22:44:32.343607Z"
    }
   },
   "outputs": [],
   "source": [
    "model = Sequential([\n",
    "        Dense(1024, input_shape=(max_words,)),\n",
    "          Activation('relu'),\n",
    "          Dropout(0.5),\n",
    "          Dense(num_classes),\n",
    "          Activation('softmax')\n",
    "        ])"
   ]
  },
  {
   "cell_type": "code",
   "execution_count": 12,
   "metadata": {
    "ExecuteTime": {
     "end_time": "2018-02-13T22:44:33.517825Z",
     "start_time": "2018-02-13T22:44:33.454822Z"
    }
   },
   "outputs": [],
   "source": [
    "model.compile(loss='categorical_crossentropy',\n",
    "              optimizer='adam',\n",
    "              metrics=['accuracy'])"
   ]
  },
  {
   "cell_type": "code",
   "execution_count": 13,
   "metadata": {
    "ExecuteTime": {
     "end_time": "2018-02-13T23:07:13.277281Z",
     "start_time": "2018-02-13T22:44:34.842922Z"
    },
    "scrolled": true
   },
   "outputs": [
    {
     "name": "stdout",
     "output_type": "stream",
     "text": [
      "Train on 91267 samples, validate on 10141 samples\n",
      "Epoch 1/1\n",
      "91267/91267 [==============================] - 1358s 15ms/step - loss: 0.3319 - acc: 0.8993 - val_loss: 0.4250 - val_acc: 0.8505\n"
     ]
    }
   ],
   "source": [
    "history = model.fit(x_train, y_train,\n",
    "                    batch_size=batch_size,\n",
    "                    epochs=epochs,\n",
    "                    verbose=1,\n",
    "                    validation_split=0.1)"
   ]
  },
  {
   "cell_type": "code",
   "execution_count": 16,
   "metadata": {
    "ExecuteTime": {
     "end_time": "2018-02-13T23:07:50.371547Z",
     "start_time": "2018-02-13T23:07:48.975604Z"
    }
   },
   "outputs": [],
   "source": [
    "model.save('1e_model_dump.h5')"
   ]
  },
  {
   "cell_type": "code",
   "execution_count": 11,
   "metadata": {
    "ExecuteTime": {
     "end_time": "2018-02-14T07:57:31.804511Z",
     "start_time": "2018-02-14T07:57:28.097315Z"
    }
   },
   "outputs": [],
   "source": [
    "model = load_model('1e_model_dump.h5')"
   ]
  },
  {
   "cell_type": "code",
   "execution_count": 12,
   "metadata": {
    "ExecuteTime": {
     "end_time": "2018-02-14T08:08:27.312417Z",
     "start_time": "2018-02-14T07:57:39.168893Z"
    },
    "scrolled": true
   },
   "outputs": [
    {
     "name": "stdout",
     "output_type": "stream",
     "text": [
      "188920/188920 [==============================] - 648s 3ms/step\n"
     ]
    }
   ],
   "source": [
    "predo = model.predict(x_test, verbose=1)"
   ]
  },
  {
   "cell_type": "code",
   "execution_count": 15,
   "metadata": {
    "ExecuteTime": {
     "end_time": "2018-02-13T23:07:42.678950Z",
     "start_time": "2018-02-13T23:07:42.110379Z"
    }
   },
   "outputs": [
    {
     "name": "stdout",
     "output_type": "stream",
     "text": [
      "Saved model to disk\n"
     ]
    }
   ],
   "source": [
    "model_yaml = model.to_yaml()\n",
    "with open(\"model.yaml\", \"w\") as yaml_file:\n",
    "    yaml_file.write(model_yaml)\n",
    "# serialize weights to HDF5\n",
    "model.save_weights(\"model.h5\")\n",
    "print(\"Saved model to disk\")"
   ]
  },
  {
   "cell_type": "code",
   "execution_count": 22,
   "metadata": {
    "ExecuteTime": {
     "end_time": "2018-02-14T08:12:46.703235Z",
     "start_time": "2018-02-14T08:12:46.700134Z"
    }
   },
   "outputs": [],
   "source": [
    "predomax = np.argmax(predo, axis=1)"
   ]
  },
  {
   "cell_type": "code",
   "execution_count": 20,
   "metadata": {
    "ExecuteTime": {
     "end_time": "2018-02-14T08:12:04.356320Z",
     "start_time": "2018-02-14T08:12:04.351333Z"
    }
   },
   "outputs": [],
   "source": [
    "ttest = test.copy()"
   ]
  },
  {
   "cell_type": "code",
   "execution_count": 23,
   "metadata": {
    "ExecuteTime": {
     "end_time": "2018-02-14T08:12:51.216472Z",
     "start_time": "2018-02-14T08:12:51.205165Z"
    }
   },
   "outputs": [],
   "source": [
    "ttest['Label'] = pd.DataFrame({'Label':predomax})"
   ]
  },
  {
   "cell_type": "code",
   "execution_count": 25,
   "metadata": {
    "ExecuteTime": {
     "end_time": "2018-02-14T08:13:13.095498Z",
     "start_time": "2018-02-14T08:13:13.061408Z"
    }
   },
   "outputs": [
    {
     "data": {
      "text/html": [
       "<div>\n",
       "<style>\n",
       "    .dataframe thead tr:only-child th {\n",
       "        text-align: right;\n",
       "    }\n",
       "\n",
       "    .dataframe thead th {\n",
       "        text-align: left;\n",
       "    }\n",
       "\n",
       "    .dataframe tbody tr th {\n",
       "        vertical-align: top;\n",
       "    }\n",
       "</style>\n",
       "<table border=\"1\" class=\"dataframe\">\n",
       "  <thead>\n",
       "    <tr style=\"text-align: right;\">\n",
       "      <th></th>\n",
       "      <th>Label</th>\n",
       "    </tr>\n",
       "  </thead>\n",
       "  <tbody>\n",
       "    <tr>\n",
       "      <th>count</th>\n",
       "      <td>188920.0</td>\n",
       "    </tr>\n",
       "    <tr>\n",
       "      <th>mean</th>\n",
       "      <td>0.0</td>\n",
       "    </tr>\n",
       "    <tr>\n",
       "      <th>std</th>\n",
       "      <td>0.0</td>\n",
       "    </tr>\n",
       "    <tr>\n",
       "      <th>min</th>\n",
       "      <td>0.0</td>\n",
       "    </tr>\n",
       "    <tr>\n",
       "      <th>25%</th>\n",
       "      <td>0.0</td>\n",
       "    </tr>\n",
       "    <tr>\n",
       "      <th>50%</th>\n",
       "      <td>0.0</td>\n",
       "    </tr>\n",
       "    <tr>\n",
       "      <th>75%</th>\n",
       "      <td>0.0</td>\n",
       "    </tr>\n",
       "    <tr>\n",
       "      <th>max</th>\n",
       "      <td>0.0</td>\n",
       "    </tr>\n",
       "  </tbody>\n",
       "</table>\n",
       "</div>"
      ],
      "text/plain": [
       "          Label\n",
       "count  188920.0\n",
       "mean        0.0\n",
       "std         0.0\n",
       "min         0.0\n",
       "25%         0.0\n",
       "50%         0.0\n",
       "75%         0.0\n",
       "max         0.0"
      ]
     },
     "execution_count": 25,
     "metadata": {},
     "output_type": "execute_result"
    }
   ],
   "source": [
    "ttest.describe()"
   ]
  },
  {
   "cell_type": "markdown",
   "metadata": {},
   "source": [
    "# XGB"
   ]
  },
  {
   "cell_type": "markdown",
   "metadata": {},
   "source": [
    "## Encode"
   ]
  },
  {
   "cell_type": "code",
   "execution_count": 119,
   "metadata": {
    "ExecuteTime": {
     "end_time": "2018-02-20T08:27:40.566788Z",
     "start_time": "2018-02-20T08:27:40.550116Z"
    }
   },
   "outputs": [],
   "source": [
    "def encode_frame(frame):\n",
    "    test_fr = frame.copy()\n",
    "    test_fr['len'] = test_fr['Word'].apply(lambda x: len(x))\n",
    "    test_fr['Word'] = test_fr['Word'].apply(lambda x: x.lower())\n",
    "    for n_col in cols_w:\n",
    "        test_fr[n_col] = 0\n",
    "    for index, row in test_fr.iterrows():\n",
    "        if (index % 1000) == 0: print(index, '\\t', row['Word'])\n",
    "        for char in set(row['Word']):\n",
    "            if char in chars_cols:\n",
    "                test_fr.loc[index, char] += 1\n",
    "    test_fr = test_fr.fillna(0)\n",
    "    test_fr = test_fr.drop(['Word'], axis=1)\n",
    "    return test_fr"
   ]
  },
  {
   "cell_type": "code",
   "execution_count": 177,
   "metadata": {
    "ExecuteTime": {
     "end_time": "2018-02-20T15:07:24.643802Z",
     "start_time": "2018-02-20T15:07:24.588963Z"
    }
   },
   "outputs": [],
   "source": [
    "for ito in range(max_len):\n",
    "    test_fr[ito] = None"
   ]
  },
  {
   "cell_type": "code",
   "execution_count": 185,
   "metadata": {
    "ExecuteTime": {
     "end_time": "2018-02-20T16:15:08.941582Z",
     "start_time": "2018-02-20T16:15:08.786162Z"
    }
   },
   "outputs": [],
   "source": [
    "encoded_x = test_fr.drop(['Label'], axis=1).as_matrix()\n",
    "encoded_y = test_fr['Label'].as_matrix().reshape(test_fr.shape[0],)"
   ]
  },
  {
   "cell_type": "code",
   "execution_count": 335,
   "metadata": {
    "ExecuteTime": {
     "end_time": "2018-02-20T20:15:22.350602Z",
     "start_time": "2018-02-20T20:15:22.346001Z"
    },
    "scrolled": true
   },
   "outputs": [
    {
     "data": {
      "text/plain": [
       "[' ',\n",
       " '\"',\n",
       " '&',\n",
       " \"'\",\n",
       " '-',\n",
       " '.',\n",
       " '/',\n",
       " '0',\n",
       " '1',\n",
       " '2',\n",
       " '3',\n",
       " '4',\n",
       " '7',\n",
       " '\\\\',\n",
       " '`',\n",
       " '\\xa0',\n",
       " '«',\n",
       " '·',\n",
       " '»',\n",
       " 'Ó',\n",
       " 'á',\n",
       " 'é',\n",
       " 'ë',\n",
       " 'ó',\n",
       " 'ô',\n",
       " 'Ё',\n",
       " 'А',\n",
       " 'Б',\n",
       " 'В',\n",
       " 'Г',\n",
       " 'Д',\n",
       " 'Е',\n",
       " 'Ж',\n",
       " 'З',\n",
       " 'И',\n",
       " 'Й',\n",
       " 'К',\n",
       " 'Л',\n",
       " 'М',\n",
       " 'Н',\n",
       " 'О',\n",
       " 'П',\n",
       " 'Р',\n",
       " 'С',\n",
       " 'Т',\n",
       " 'У',\n",
       " 'Ф',\n",
       " 'Х',\n",
       " 'Ц',\n",
       " 'Ч',\n",
       " 'Ш',\n",
       " 'Щ',\n",
       " 'Ъ',\n",
       " 'Ы',\n",
       " 'Ь',\n",
       " 'Э',\n",
       " 'Ю',\n",
       " 'Я',\n",
       " 'а',\n",
       " 'б',\n",
       " 'в',\n",
       " 'г',\n",
       " 'д',\n",
       " 'е',\n",
       " 'ж',\n",
       " 'з',\n",
       " 'и',\n",
       " 'й',\n",
       " 'к',\n",
       " 'л',\n",
       " 'м',\n",
       " 'н',\n",
       " 'о',\n",
       " 'п',\n",
       " 'р',\n",
       " 'с',\n",
       " 'т',\n",
       " 'у',\n",
       " 'ф',\n",
       " 'х',\n",
       " 'ц',\n",
       " 'ч',\n",
       " 'ш',\n",
       " 'щ',\n",
       " 'ъ',\n",
       " 'ы',\n",
       " 'ь',\n",
       " 'э',\n",
       " 'ю',\n",
       " 'я',\n",
       " 'ѐ',\n",
       " 'ё',\n",
       " '’',\n",
       " '“',\n",
       " '”']"
      ]
     },
     "execution_count": 335,
     "metadata": {},
     "output_type": "execute_result"
    }
   ],
   "source": [
    "cols_w_list"
   ]
  },
  {
   "cell_type": "code",
   "execution_count": 392,
   "metadata": {
    "ExecuteTime": {
     "end_time": "2018-02-20T20:45:57.313424Z",
     "start_time": "2018-02-20T20:45:57.301369Z"
    }
   },
   "outputs": [],
   "source": [
    "def fit_encoder(train, test):\n",
    "    cols_w = set()\n",
    "    for word in train['Word'].values:\n",
    "        cols_w.update(set(word))\n",
    "    for word in test['Word'].values:\n",
    "        cols_w.update(set(word))\n",
    "    cols_w.update(set(map(str, range(0, 39))))\n",
    "    cols_w_list = list(cols_w)\n",
    "    cols_w_list.sort()\n",
    "    label_encoder_x = LabelEncoder()\n",
    "    _ = label_encoder_x.fit(cols_w_list)\n",
    "    return label_encoder_x"
   ]
  },
  {
   "cell_type": "code",
   "execution_count": 349,
   "metadata": {
    "ExecuteTime": {
     "end_time": "2018-02-20T20:28:19.940381Z",
     "start_time": "2018-02-20T20:28:19.931801Z"
    }
   },
   "outputs": [],
   "source": [
    "def label_encode_chars(frame, label_encoder_x):\n",
    "    print(\"------LabelEncoder------\")\n",
    "    array_list = []\n",
    "    matrix_x = frame.as_matrix()\n",
    "    for itero in range(matrix_x.shape[1]):\n",
    "        array_list.append(label_encoder_x.transform(matrix_x[:,itero].astype(str)))\n",
    "    matr_enc_x = np.array(array_list).T\n",
    "    print(\"------DONE------\")\n",
    "    return matr_enc_x"
   ]
  },
  {
   "cell_type": "code",
   "execution_count": 379,
   "metadata": {
    "ExecuteTime": {
     "end_time": "2018-02-20T20:38:59.245516Z",
     "start_time": "2018-02-20T20:38:59.226977Z"
    }
   },
   "outputs": [],
   "source": [
    "def words_to_features(frame):\n",
    "    test_fr = frame.copy()\n",
    "    test_fr['len'] = test_fr['Word'].apply(lambda x: len(x))\n",
    "    dicts_list = []\n",
    "    for index, row in test_fr.iterrows():\n",
    "        if (index % 1000) == 0: print(index, '\\t', row['Word'])\n",
    "        dicts_list.append({k: v for k, v in enumerate(row['Word'])})\n",
    "    test_fr = pd.concat([test_fr, pd.DataFrame(dicts_list)], axis=1)\n",
    "    test_fr = test_fr.drop(['Word'], axis=1)\n",
    "    if test_fr.shape[1] < 39:\n",
    "        for ite in range(31, 38):\n",
    "            test_fr[ite] = None\n",
    "    test_fr = test_fr.fillna(0)\n",
    "    return test_fr"
   ]
  },
  {
   "cell_type": "code",
   "execution_count": 393,
   "metadata": {
    "ExecuteTime": {
     "end_time": "2018-02-20T20:46:02.694638Z",
     "start_time": "2018-02-20T20:46:02.371818Z"
    }
   },
   "outputs": [],
   "source": [
    "label_encoder_x = fit_encoder(train, test)"
   ]
  },
  {
   "cell_type": "code",
   "execution_count": 383,
   "metadata": {
    "ExecuteTime": {
     "end_time": "2018-02-20T20:39:18.319515Z",
     "start_time": "2018-02-20T20:39:18.316814Z"
    },
    "scrolled": true
   },
   "outputs": [],
   "source": [
    "encoded_y = train['Label'].as_matrix().reshape(train.shape[0],)"
   ]
  },
  {
   "cell_type": "code",
   "execution_count": 322,
   "metadata": {
    "ExecuteTime": {
     "end_time": "2018-02-20T20:09:34.768828Z",
     "start_time": "2018-02-20T20:09:34.764855Z"
    }
   },
   "outputs": [
    {
     "data": {
      "text/plain": [
       "(101408, 39)"
      ]
     },
     "execution_count": 322,
     "metadata": {},
     "output_type": "execute_result"
    }
   ],
   "source": [
    "encoded_x.shape"
   ]
  },
  {
   "cell_type": "code",
   "execution_count": 394,
   "metadata": {
    "ExecuteTime": {
     "end_time": "2018-02-20T20:46:32.541051Z",
     "start_time": "2018-02-20T20:46:25.334213Z"
    },
    "scrolled": true
   },
   "outputs": [
    {
     "name": "stdout",
     "output_type": "stream",
     "text": [
      "0 \t Аалтонен\n",
      "1000 \t азами\n",
      "2000 \t амилоида\n",
      "3000 \t арабиста\n",
      "4000 \t аудиториях\n",
      "5000 \t Бармена\n",
      "6000 \t Бендиго\n",
      "7000 \t благоволением\n",
      "8000 \t БОРИСОВИЧ\n",
      "9000 \t брюхами\n",
      "10000 \t Валенсией\n",
      "11000 \t Вероотступничество\n",
      "12000 \t винтику\n",
      "13000 \t Войлоки\n",
      "14000 \t Вудраффом\n",
      "15000 \t Гавот\n",
      "16000 \t геологам\n",
      "17000 \t ГНОМАХ\n",
      "18000 \t Градиент\n",
      "19000 \t гуманизмом\n",
      "20000 \t Деймона\n",
      "21000 \t Джадкинса\n",
      "22000 \t дисплазия\n",
      "23000 \t Дорин\n",
      "24000 \t Евангелиях\n",
      "25000 \t житиях\n",
      "26000 \t закреплении\n",
      "27000 \t захоронениями\n",
      "28000 \t зёрнышку\n",
      "29000 \t имманентность\n",
      "30000 \t информативность\n",
      "31000 \t Кадету\n",
      "32000 \t Карамазов\n",
      "33000 \t квалификатора\n",
      "34000 \t класса\n",
      "35000 \t колесику\n",
      "36000 \t конголезцам\n",
      "37000 \t КОРАБЛЕКРУШЕНИЕ\n",
      "38000 \t красавицах\n",
      "39000 \t Кудеснику\n",
      "40000 \t Лампедузы\n",
      "41000 \t Ливингстона\n",
      "42000 \t лососины\n",
      "43000 \t Макаровна\n",
      "44000 \t масленицу\n",
      "45000 \t Меррит\n",
      "46000 \t Миннесоту\n",
      "47000 \t монеток\n",
      "48000 \t мушках\n",
      "49000 \t намотке\n",
      "50000 \t Невод\n",
      "51000 \t несоответствие\n",
      "52000 \t носов\n",
      "53000 \t обращение\n",
      "54000 \t оккупацию\n",
      "55000 \t органон\n",
      "56000 \t отказником\n",
      "57000 \t Паддингтону\n",
      "58000 \t пассатижами\n",
      "59000 \t передовицей\n",
      "60000 \t петлица\n",
      "61000 \t плебей\n",
      "62000 \t подкачек\n",
      "63000 \t покосами\n",
      "64000 \t поползней\n",
      "65000 \t похрапыванию\n",
      "66000 \t Прекращения\n",
      "67000 \t примус\n",
      "68000 \t проектанты\n",
      "69000 \t профессионалов\n",
      "70000 \t Пытками\n",
      "71000 \t разноголосице\n",
      "72000 \t Расцвет\n",
      "73000 \t рекордсменом\n",
      "74000 \t родины\n",
      "75000 \t Рыбке\n",
      "76000 \t Сановник\n",
      "77000 \t Северине\n",
      "78000 \t СИГНАЛОМ\n",
      "79000 \t скорпионом\n",
      "80000 \t снисканию\n",
      "81000 \t СОПРОВОЖДЕНИЯ\n",
      "82000 \t Спросом\n",
      "83000 \t стойло\n",
      "84000 \t судовождения\n",
      "85000 \t тайника\n",
      "86000 \t теплоизоляцию\n",
      "87000 \t Тона\n",
      "88000 \t триллере\n",
      "89000 \t Убежищу\n",
      "90000 \t умозаключением\n",
      "91000 \t Участием\n",
      "92000 \t фетишизму\n",
      "93000 \t фотокарточкой\n",
      "94000 \t Харлане\n",
      "95000 \t Хохломой\n",
      "96000 \t Цыпочкам\n",
      "97000 \t Что-то\n",
      "98000 \t шкипер\n",
      "99000 \t Эволюционисты\n",
      "100000 \t эмотиконами\n",
      "101000 \t Ядвига\n"
     ]
    }
   ],
   "source": [
    "chars_train = words_to_features(train.drop(['Label'], axis=1))"
   ]
  },
  {
   "cell_type": "code",
   "execution_count": 395,
   "metadata": {
    "ExecuteTime": {
     "end_time": "2018-02-20T20:46:33.792347Z",
     "start_time": "2018-02-20T20:46:32.543541Z"
    }
   },
   "outputs": [
    {
     "name": "stdout",
     "output_type": "stream",
     "text": [
      "------LabelEncoder------\n",
      "------DONE------\n"
     ]
    }
   ],
   "source": [
    "encoded_x = label_encode_chars(chars_train, label_encoder_x)"
   ]
  },
  {
   "cell_type": "code",
   "execution_count": 267,
   "metadata": {
    "ExecuteTime": {
     "end_time": "2018-02-20T19:42:21.601893Z",
     "start_time": "2018-02-20T19:42:20.453450Z"
    }
   },
   "outputs": [
    {
     "data": {
      "text/plain": [
       "['./train_encoded_x_char.pkl']"
      ]
     },
     "execution_count": 267,
     "metadata": {},
     "output_type": "execute_result"
    }
   ],
   "source": [
    "joblib.dump(encoded_x, './train_encoded_x_char.pkl')"
   ]
  },
  {
   "cell_type": "code",
   "execution_count": 128,
   "metadata": {
    "ExecuteTime": {
     "end_time": "2018-02-20T08:36:36.979446Z",
     "start_time": "2018-02-20T08:36:36.910126Z"
    }
   },
   "outputs": [],
   "source": [
    "train_encoded_x = joblib.load('./train_encoded_x_ss.pkl')"
   ]
  },
  {
   "cell_type": "markdown",
   "metadata": {},
   "source": [
    "## Train"
   ]
  },
  {
   "cell_type": "code",
   "execution_count": 396,
   "metadata": {
    "ExecuteTime": {
     "end_time": "2018-02-20T20:46:41.938620Z",
     "start_time": "2018-02-20T20:46:41.874768Z"
    }
   },
   "outputs": [],
   "source": [
    "seed = 88\n",
    "test_size = 0.2\n",
    "X_train, X_test, y_train, y_test = train_test_split(encoded_x, encoded_y, \n",
    "                                                    test_size=test_size, random_state=seed)"
   ]
  },
  {
   "cell_type": "code",
   "execution_count": 259,
   "metadata": {
    "ExecuteTime": {
     "end_time": "2018-02-20T19:40:06.453939Z",
     "start_time": "2018-02-20T19:40:06.442272Z"
    }
   },
   "outputs": [],
   "source": [
    "positive_cases = train[train['Label']==1].shape[0]\n",
    "negative_cases = train[train['Label']==0].shape[0]\n",
    "scale_pos_weight = negative_cases / positive_cases"
   ]
  },
  {
   "cell_type": "code",
   "execution_count": 260,
   "metadata": {
    "ExecuteTime": {
     "end_time": "2018-02-20T19:40:07.032158Z",
     "start_time": "2018-02-20T19:40:07.028225Z"
    }
   },
   "outputs": [
    {
     "data": {
      "text/plain": [
       "8.532618913329573"
      ]
     },
     "execution_count": 260,
     "metadata": {},
     "output_type": "execute_result"
    }
   ],
   "source": [
    "scale_pos_weight"
   ]
  },
  {
   "cell_type": "code",
   "execution_count": 397,
   "metadata": {
    "ExecuteTime": {
     "end_time": "2018-02-20T20:46:45.448041Z",
     "start_time": "2018-02-20T20:46:45.444675Z"
    }
   },
   "outputs": [],
   "source": [
    "gbm = xgb.XGBClassifier(max_depth=50, n_estimators=1000, learning_rate=0.05, n_jobs=7, \n",
    "                        random_state=88, scale_pos_weight=scale_pos_weight)"
   ]
  },
  {
   "cell_type": "code",
   "execution_count": 325,
   "metadata": {
    "ExecuteTime": {
     "end_time": "2018-02-20T20:09:46.873709Z",
     "start_time": "2018-02-20T20:09:46.870592Z"
    }
   },
   "outputs": [
    {
     "name": "stdout",
     "output_type": "stream",
     "text": [
      "(81126,) 8566\n"
     ]
    }
   ],
   "source": [
    "print(y_train.shape, y_train.sum())"
   ]
  },
  {
   "cell_type": "code",
   "execution_count": 398,
   "metadata": {
    "ExecuteTime": {
     "end_time": "2018-02-20T20:51:18.734583Z",
     "start_time": "2018-02-20T20:47:07.952958Z"
    }
   },
   "outputs": [
    {
     "data": {
      "text/plain": [
       "XGBClassifier(base_score=0.5, booster='gbtree', colsample_bylevel=1,\n",
       "       colsample_bytree=1, gamma=0, learning_rate=0.05, max_delta_step=0,\n",
       "       max_depth=50, min_child_weight=1, missing=None, n_estimators=1000,\n",
       "       n_jobs=7, nthread=None, objective='binary:logistic',\n",
       "       random_state=88, reg_alpha=0, reg_lambda=1,\n",
       "       scale_pos_weight=8.532618913329573, seed=None, silent=True,\n",
       "       subsample=1)"
      ]
     },
     "execution_count": 398,
     "metadata": {},
     "output_type": "execute_result"
    }
   ],
   "source": [
    "gbm.fit(encoded_x, encoded_y)"
   ]
  },
  {
   "cell_type": "code",
   "execution_count": 399,
   "metadata": {
    "ExecuteTime": {
     "end_time": "2018-02-20T20:51:19.269140Z",
     "start_time": "2018-02-20T20:51:18.735860Z"
    }
   },
   "outputs": [
    {
     "data": {
      "text/plain": [
       "['./gbm50.1000.88.chars.all.pkl']"
      ]
     },
     "execution_count": 399,
     "metadata": {},
     "output_type": "execute_result"
    }
   ],
   "source": [
    "joblib.dump(gbm, './gbm50.1000.88.chars.all.pkl')"
   ]
  },
  {
   "cell_type": "markdown",
   "metadata": {
    "ExecuteTime": {
     "end_time": "2018-02-19T19:25:03.084300Z",
     "start_time": "2018-02-19T19:25:03.081776Z"
    }
   },
   "source": [
    "## Predict"
   ]
  },
  {
   "cell_type": "code",
   "execution_count": 400,
   "metadata": {
    "ExecuteTime": {
     "end_time": "2018-02-20T20:51:33.648537Z",
     "start_time": "2018-02-20T20:51:19.270920Z"
    },
    "scrolled": true
   },
   "outputs": [
    {
     "name": "stdout",
     "output_type": "stream",
     "text": [
      "0 \t Аалто\n",
      "1000 \t автомобильчик\n",
      "2000 \t Айдына\n",
      "3000 \t Алика\n",
      "4000 \t ампутацией\n",
      "5000 \t антимиры\n",
      "6000 \t аристократом\n",
      "7000 \t Астронавт\n",
      "8000 \t Бааде\n",
      "9000 \t Бандой\n",
      "10000 \t Батталья\n",
      "11000 \t белизна\n",
      "12000 \t бессмертникам\n",
      "13000 \t благах\n",
      "14000 \t Богини\n",
      "15000 \t Борисюк\n",
      "16000 \t Брею\n",
      "17000 \t Букета\n",
      "18000 \t бытием\n",
      "19000 \t Вартан\n",
      "20000 \t Венец\n",
      "21000 \t вечерю\n",
      "22000 \t Вилу\n",
      "23000 \t внутренностей\n",
      "24000 \t вокодерах\n",
      "25000 \t восприятие\n",
      "26000 \t Въезда\n",
      "27000 \t Вырывание\n",
      "28000 \t гаитянки\n",
      "29000 \t гвалте\n",
      "30000 \t герцог\n",
      "31000 \t Гладков\n",
      "32000 \t Голосовании\n",
      "33000 \t Господи\n",
      "34000 \t грешница\n",
      "35000 \t Гужона\n",
      "36000 \t датировке\n",
      "37000 \t Декадент\n",
      "38000 \t деревцом\n",
      "39000 \t Джермейн\n",
      "40000 \t дилерств\n",
      "41000 \t Добавлением\n",
      "42000 \t Домициль\n",
      "43000 \t Дрезин\n",
      "44000 \t дышлу\n",
      "45000 \t Еретиков\n",
      "46000 \t жизням\n",
      "47000 \t завышении\n",
      "48000 \t законодатели\n",
      "49000 \t ЗАПРАВКА\n",
      "50000 \t Заявками\n",
      "51000 \t Змеек\n",
      "52000 \t Идеализм\n",
      "53000 \t ИЗОБРАЖЕНИЯМ\n",
      "54000 \t инвертированию\n",
      "55000 \t инструменту\n",
      "56000 \t Исидора\n",
      "57000 \t Ишаки\n",
      "58000 \t Каллаган\n",
      "59000 \t капитала\n",
      "60000 \t картечью\n",
      "61000 \t кашице\n",
      "62000 \t кизила\n",
      "63000 \t классиками\n",
      "64000 \t кнопкой\n",
      "65000 \t Колине\n",
      "66000 \t комитентов\n",
      "67000 \t Конек\n",
      "68000 \t контрфорсы\n",
      "69000 \t Корком\n",
      "70000 \t костюмы\n",
      "71000 \t Крейвена\n",
      "72000 \t КРУГ\n",
      "73000 \t кумовством\n",
      "74000 \t лавкой\n",
      "75000 \t лая\n",
      "76000 \t лесником\n",
      "77000 \t липчан\n",
      "78000 \t Локотки\n",
      "79000 \t ЛЫЖНИК\n",
      "80000 \t Мадридцы\n",
      "81000 \t малявку\n",
      "82000 \t Мартинеса\n",
      "83000 \t МГ\n",
      "84000 \t мерина\n",
      "85000 \t мещанина\n",
      "86000 \t Минюста\n",
      "87000 \t Модуляцию\n",
      "88000 \t Морганом\n",
      "89000 \t мулат\n",
      "90000 \t Мятежом\n",
      "91000 \t накладных\n",
      "92000 \t насадке\n",
      "93000 \t небу\n",
      "94000 \t некрологе\n",
      "95000 \t несовершеннолетней\n",
      "96000 \t ниточка\n",
      "97000 \t нотоносца\n",
      "98000 \t обладатель\n",
      "99000 \t Обстрелы\n",
      "100000 \t Одеттой\n",
      "101000 \t Оледенений\n",
      "102000 \t Оптимизацией\n",
      "103000 \t Осетина\n",
      "104000 \t отдание\n",
      "105000 \t Отсечения\n",
      "106000 \t О’Коннор\n",
      "107000 \t панцирям\n",
      "108000 \t паспортизацию\n",
      "109000 \t Пелерины\n",
      "110000 \t переклассификации\n",
      "111000 \t перехватов\n",
      "112000 \t Пещерами\n",
      "113000 \t пичуги\n",
      "114000 \t плоскодонка\n",
      "115000 \t погрузчиках\n",
      "116000 \t пододеяльник\n",
      "117000 \t Пожароопасность\n",
      "118000 \t полицейские\n",
      "119000 \t Помпано-Бич\n",
      "120000 \t посапывание\n",
      "121000 \t потуга\n",
      "122000 \t превращениями\n",
      "123000 \t ПРЕОБРАЖЕНИЯ\n",
      "124000 \t придурках\n",
      "125000 \t присвист\n",
      "126000 \t провозом\n",
      "127000 \t пролистывания\n",
      "128000 \t противницами\n",
      "129000 \t психиатре\n",
      "130000 \t Пучков\n",
      "131000 \t радиопрограмме\n",
      "132000 \t размыве\n",
      "133000 \t раскраску\n",
      "134000 \t расческу\n",
      "135000 \t редакция\n",
      "136000 \t ремонт\n",
      "137000 \t РИГГС\n",
      "138000 \t РОЙ\n",
      "139000 \t Руке\n",
      "140000 \t Савина\n",
      "141000 \t самофинансирование\n",
      "142000 \t сварок\n",
      "143000 \t сдобой\n",
      "144000 \t Сенны\n",
      "145000 \t Сикоку\n",
      "146000 \t сказуемым\n",
      "147000 \t Скряга\n",
      "148000 \t слюнотечения\n",
      "149000 \t Собственность\n",
      "150000 \t солонине\n",
      "151000 \t соударением\n",
      "152000 \t спокойствия\n",
      "153000 \t Старейшинам\n",
      "154000 \t Стинсону\n",
      "155000 \t стремянках\n",
      "156000 \t Судоходство\n",
      "157000 \t Сценариями\n",
      "158000 \t Таксы\n",
      "159000 \t текстильщики\n",
      "160000 \t терминатору\n",
      "161000 \t Тиши\n",
      "162000 \t торт\n",
      "163000 \t трезвость\n",
      "164000 \t Трумэну\n",
      "165000 \t Тютчев\n",
      "166000 \t удлинений\n",
      "167000 \t УЛЬЯ\n",
      "168000 \t ураганы\n",
      "169000 \t уточки\n",
      "170000 \t фальсификаты\n",
      "171000 \t феты\n",
      "172000 \t флигеля\n",
      "173000 \t фотокорреспондентом\n",
      "174000 \t фурункулах\n",
      "175000 \t Харькова\n",
      "176000 \t хлысту\n",
      "177000 \t христианка\n",
      "178000 \t центр\n",
      "179000 \t Часом\n",
      "180000 \t четверка\n",
      "181000 \t Шагалов\n",
      "182000 \t Шером\n",
      "183000 \t шпалера\n",
      "184000 \t щеглу\n",
      "185000 \t Экономистов\n",
      "186000 \t Эллера\n",
      "187000 \t Эррере\n",
      "188000 \t Юрисдикция\n"
     ]
    }
   ],
   "source": [
    "chars_train = words_to_features(test)"
   ]
  },
  {
   "cell_type": "code",
   "execution_count": 401,
   "metadata": {
    "ExecuteTime": {
     "end_time": "2018-02-20T20:51:35.893283Z",
     "start_time": "2018-02-20T20:51:33.650622Z"
    }
   },
   "outputs": [
    {
     "name": "stdout",
     "output_type": "stream",
     "text": [
      "------LabelEncoder------\n",
      "------DONE------\n"
     ]
    }
   ],
   "source": [
    "test_encoded_x = label_encode_chars(chars_train, label_encoder_x)"
   ]
  },
  {
   "cell_type": "code",
   "execution_count": 402,
   "metadata": {
    "ExecuteTime": {
     "end_time": "2018-02-20T20:51:44.382358Z",
     "start_time": "2018-02-20T20:51:44.377495Z"
    },
    "scrolled": true
   },
   "outputs": [
    {
     "data": {
      "text/plain": [
       "array([[ 41,  59,  91, ...,   7,   7,   7],\n",
       "       [ 30,  59,  59, ...,   7,   7,   7],\n",
       "       [ 40,  59,  91, ...,   7,   7,   7],\n",
       "       ...,\n",
       "       [ 43,  58, 103, ...,   7,   7,   7],\n",
       "       [ 44, 124, 103, ...,   7,   7,   7],\n",
       "       [ 44, 124, 103, ...,   7,   7,   7]])"
      ]
     },
     "execution_count": 402,
     "metadata": {},
     "output_type": "execute_result"
    }
   ],
   "source": [
    "# last\n",
    "test_encoded_x"
   ]
  },
  {
   "cell_type": "code",
   "execution_count": 300,
   "metadata": {
    "ExecuteTime": {
     "end_time": "2018-02-20T20:01:01.627573Z",
     "start_time": "2018-02-20T20:01:01.587555Z"
    }
   },
   "outputs": [
    {
     "data": {
      "text/plain": [
       "['./test_encoded_x_chars.pkl']"
      ]
     },
     "execution_count": 300,
     "metadata": {},
     "output_type": "execute_result"
    }
   ],
   "source": [
    "joblib.dump(test_encoded_x, './test_encoded_x_chars.pkl')"
   ]
  },
  {
   "cell_type": "code",
   "execution_count": 140,
   "metadata": {
    "ExecuteTime": {
     "end_time": "2018-02-20T09:09:02.474467Z",
     "start_time": "2018-02-20T09:09:02.327848Z"
    }
   },
   "outputs": [],
   "source": [
    "test_encoded_x = joblib.load('./test_encoded_x_ss.pkl')"
   ]
  },
  {
   "cell_type": "code",
   "execution_count": 248,
   "metadata": {
    "ExecuteTime": {
     "end_time": "2018-02-19T21:57:52.764898Z",
     "start_time": "2018-02-19T21:57:52.410339Z"
    }
   },
   "outputs": [],
   "source": [
    "gbm = joblib.load('./gbm30.900.88.pkl')"
   ]
  },
  {
   "cell_type": "code",
   "execution_count": 403,
   "metadata": {
    "ExecuteTime": {
     "end_time": "2018-02-20T20:52:50.241581Z",
     "start_time": "2018-02-20T20:51:55.961563Z"
    },
    "scrolled": true
   },
   "outputs": [
    {
     "name": "stderr",
     "output_type": "stream",
     "text": [
      "/Users/solo/.pyenv/versions/jupyter3.6.4/lib/python3.6/site-packages/sklearn/preprocessing/label.py:151: DeprecationWarning: The truth value of an empty array is ambiguous. Returning False, but in future this will result in an error. Use `array.size > 0` to check that an array is not empty.\n",
      "  if diff:\n"
     ]
    }
   ],
   "source": [
    "predictions = gbm.predict(test_encoded_x)"
   ]
  },
  {
   "cell_type": "code",
   "execution_count": 387,
   "metadata": {
    "ExecuteTime": {
     "end_time": "2018-02-20T20:44:03.982154Z",
     "start_time": "2018-02-20T20:44:03.966577Z"
    },
    "scrolled": true
   },
   "outputs": [
    {
     "data": {
      "text/plain": [
       "0.9960118982042525"
      ]
     },
     "execution_count": 387,
     "metadata": {},
     "output_type": "execute_result"
    }
   ],
   "source": [
    "roc_auc_score(encoded_y, predictions)"
   ]
  },
  {
   "cell_type": "code",
   "execution_count": 291,
   "metadata": {
    "ExecuteTime": {
     "end_time": "2018-02-20T19:57:46.318437Z",
     "start_time": "2018-02-20T19:57:46.312232Z"
    }
   },
   "outputs": [
    {
     "data": {
      "text/plain": [
       "0.7581622013870777"
      ]
     },
     "execution_count": 291,
     "metadata": {},
     "output_type": "execute_result"
    }
   ],
   "source": [
    "roc_auc_score(y_test, predictions)"
   ]
  },
  {
   "cell_type": "code",
   "execution_count": 303,
   "metadata": {
    "ExecuteTime": {
     "end_time": "2018-02-20T20:02:06.565610Z",
     "start_time": "2018-02-20T20:02:06.561938Z"
    },
    "scrolled": true
   },
   "outputs": [
    {
     "data": {
      "text/plain": [
       "(188920,)"
      ]
     },
     "execution_count": 303,
     "metadata": {},
     "output_type": "execute_result"
    }
   ],
   "source": [
    "test.index.shape"
   ]
  },
  {
   "cell_type": "code",
   "execution_count": 311,
   "metadata": {
    "ExecuteTime": {
     "end_time": "2018-02-20T20:04:17.273970Z",
     "start_time": "2018-02-20T20:04:17.270236Z"
    }
   },
   "outputs": [
    {
     "data": {
      "text/plain": [
       "(188920, 39)"
      ]
     },
     "execution_count": 311,
     "metadata": {},
     "output_type": "execute_result"
    }
   ],
   "source": [
    "test_encoded_x.shape"
   ]
  },
  {
   "cell_type": "code",
   "execution_count": 404,
   "metadata": {
    "ExecuteTime": {
     "end_time": "2018-02-20T20:52:50.250415Z",
     "start_time": "2018-02-20T20:52:50.243537Z"
    }
   },
   "outputs": [],
   "source": [
    "submission = pd.DataFrame({'Id': test.index,\n",
    "                           'Prediction': predictions })"
   ]
  },
  {
   "cell_type": "code",
   "execution_count": 405,
   "metadata": {
    "ExecuteTime": {
     "end_time": "2018-02-20T20:52:50.766958Z",
     "start_time": "2018-02-20T20:52:50.252469Z"
    }
   },
   "outputs": [],
   "source": [
    "submission.to_csv('./submission30.900.88.chars.csv', index=False)"
   ]
  },
  {
   "cell_type": "markdown",
   "metadata": {},
   "source": [
    "# SVM"
   ]
  },
  {
   "cell_type": "markdown",
   "metadata": {},
   "source": []
  },
  {
   "cell_type": "code",
   "execution_count": 257,
   "metadata": {
    "ExecuteTime": {
     "end_time": "2018-02-19T22:03:56.652326Z",
     "start_time": "2018-02-19T22:03:56.649270Z"
    }
   },
   "outputs": [],
   "source": [
    "svr_rbf = SVR(kernel='rbf', C=1500, gamma=0.1)"
   ]
  },
  {
   "cell_type": "code",
   "execution_count": null,
   "metadata": {
    "ExecuteTime": {
     "start_time": "2018-02-19T22:03:58.604Z"
    }
   },
   "outputs": [],
   "source": [
    "svrB2C = svr_rbf.fit(X_train, y_train)\n"
   ]
  },
  {
   "cell_type": "code",
   "execution_count": null,
   "metadata": {
    "ExecuteTime": {
     "start_time": "2018-02-19T22:04:21.198Z"
    }
   },
   "outputs": [],
   "source": [
    "joblib.dump(svrB2C, './svr{}.{}.pkl'.format(1500,0.1))\n"
   ]
  },
  {
   "cell_type": "code",
   "execution_count": null,
   "metadata": {
    "ExecuteTime": {
     "start_time": "2018-02-19T22:04:24.257Z"
    }
   },
   "outputs": [],
   "source": [
    "resultB2C = svrB2C.predict(train_encoded_x)"
   ]
  },
  {
   "cell_type": "code",
   "execution_count": null,
   "metadata": {
    "ExecuteTime": {
     "start_time": "2018-02-19T22:04:38.337Z"
    }
   },
   "outputs": [],
   "source": [
    "roc_auc_score(encoded_y, resultB2C)"
   ]
  }
 ],
 "metadata": {
  "kernelspec": {
   "display_name": "Python 3",
   "language": "python",
   "name": "python3"
  },
  "language_info": {
   "codemirror_mode": {
    "name": "ipython",
    "version": 3
   },
   "file_extension": ".py",
   "mimetype": "text/x-python",
   "name": "python",
   "nbconvert_exporter": "python",
   "pygments_lexer": "ipython3",
   "version": "3.6.4"
  },
  "toc": {
   "nav_menu": {},
   "number_sections": true,
   "sideBar": true,
   "skip_h1_title": false,
   "title_cell": "Table of Contents",
   "title_sidebar": "Contents",
   "toc_cell": false,
   "toc_position": {
    "height": "calc(100% - 180px)",
    "left": "10px",
    "top": "150px",
    "width": "191px"
   },
   "toc_section_display": true,
   "toc_window_display": true
  }
 },
 "nbformat": 4,
 "nbformat_minor": 2
}
